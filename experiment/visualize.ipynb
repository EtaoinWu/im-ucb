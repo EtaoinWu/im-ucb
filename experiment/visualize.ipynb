{
 "cells": [
  {
   "cell_type": "code",
   "execution_count": 2,
   "metadata": {},
   "outputs": [],
   "source": [
    "import functools as ft\n",
    "import io\n",
    "import itertools\n",
    "import json\n",
    "from pathlib import Path\n",
    "\n",
    "import numpy as np\n",
    "import matplotlib\n",
    "from matplotlib import pyplot as plt\n",
    "import pandas as pd\n",
    "import seaborn as sns\n",
    "\n",
    "from matplotlib.axes import Axes\n",
    "from tqdm.notebook import tqdm\n",
    "\n",
    "import matplotlib.font_manager as fm"
   ]
  },
  {
   "cell_type": "code",
   "execution_count": 3,
   "metadata": {},
   "outputs": [],
   "source": [
    "sns.set_theme(\n",
    "    \"paper\",\n",
    "    \"darkgrid\",\n",
    "    font_scale=1.1,\n",
    "    rc={\n",
    "        \"font.family\": \"serif\",\n",
    "        \"font.serif\": [\"CMU Concrete\"],\n",
    "        \"axes.facecolor\": \".95\",\n",
    "        # math font\n",
    "        \"mathtext.fontset\": \"cm\",\n",
    "        # tex setting\n",
    "        \"text.usetex\": False,\n",
    "    },\n",
    ")"
   ]
  },
  {
   "cell_type": "code",
   "execution_count": null,
   "metadata": {},
   "outputs": [],
   "source": [
    "dataset_name = \"karate\"\n",
    "# load results/{dataset_name}/{algo_name}/{id}.txt\n",
    "# each file contains 10 lines, each line has two numbers\n",
    "# corresponding to a vertex and a sample complexity\n",
    "# also results/{dataset_name}/{algo_name}/{id}_eval.txt\n",
    "# each line has one number: mean of evaluation\n",
    "#\n",
    "# generate a dataframe with columns\n",
    "# - algo_name\n",
    "# - id\n",
    "# - vertex\n",
    "# - sample_complexity\n",
    "# - evaluation\n",
    "\n",
    "df = pd.DataFrame()\n",
    "\n",
    "for algo_name in [\"greedy\", \"celf\", \"greedy-cb\", \"celf-cb\"]:\n",
    "  for id in range(1, 1024 + 1):\n",
    "    df1 = pd.read_csv(f\"results/{dataset_name}/{algo_name}/{id}.txt\", header=None)\n",
    "    df1.columns = [\"vertex\", \"sample_complexity\"]\n",
    "    # eval_df1 = pd.read_csv(f\"results/{dataset_name}/{algo_name}/{id}_eval.txt\", header=None)\n",
    "    # eval_df1.columns = [\"evaluation\"]\n",
    "    # df1 = pd.concat([df1, eval_df1], axis=1)\n",
    "    df1[\"algo_name\"] = algo_name\n",
    "    df1[\"id\"] = id\n",
    "    df1[\"dataset_name\"] = dataset_name\n",
    "\n",
    "    df = pd.concat([df, df1], axis=0)"
   ]
  }
 ],
 "metadata": {
  "kernelspec": {
   "display_name": "Python 3",
   "language": "python",
   "name": "python3"
  },
  "language_info": {
   "codemirror_mode": {
    "name": "ipython",
    "version": 3
   },
   "file_extension": ".py",
   "mimetype": "text/x-python",
   "name": "python",
   "nbconvert_exporter": "python",
   "pygments_lexer": "ipython3",
   "version": "3.13.2"
  }
 },
 "nbformat": 4,
 "nbformat_minor": 2
}
